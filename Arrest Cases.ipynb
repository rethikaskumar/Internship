{
 "cells": [
  {
   "cell_type": "code",
   "execution_count": 1,
   "id": "1393473f",
   "metadata": {},
   "outputs": [],
   "source": [
    "import pandas as pd"
   ]
  },
  {
   "cell_type": "code",
   "execution_count": 2,
   "id": "fb38c7ff",
   "metadata": {},
   "outputs": [],
   "source": [
    "import matplotlib.pyplot as plt"
   ]
  },
  {
   "cell_type": "code",
   "execution_count": 14,
   "id": "7f35c5e8",
   "metadata": {},
   "outputs": [],
   "source": [
    "df=pd.read_csv(\"Arrests.csv\")"
   ]
  },
  {
   "cell_type": "code",
   "execution_count": 15,
   "id": "c64c54ae",
   "metadata": {},
   "outputs": [
    {
     "name": "stdout",
     "output_type": "stream",
     "text": [
      "      Unnamed: 0 released colour  year  age     sex employed citizen  checks\n",
      "0              1      Yes  White  2002   21    Male      Yes     Yes       3\n",
      "1              2       No  Black  1999   17    Male      Yes     Yes       3\n",
      "2              3      Yes  White  2000   24    Male      Yes     Yes       3\n",
      "3              4       No  Black  2000   46    Male      Yes     Yes       1\n",
      "4              5      Yes  Black  1999   27  Female      Yes     Yes       1\n",
      "...          ...      ...    ...   ...  ...     ...      ...     ...     ...\n",
      "5221        5222      Yes  White  2000   17    Male      Yes     Yes       0\n",
      "5222        5223      Yes  White  2000   21  Female      Yes     Yes       0\n",
      "5223        5224      Yes  Black  1999   21  Female      Yes     Yes       1\n",
      "5224        5225       No  Black  1998   24    Male      Yes     Yes       4\n",
      "5225        5226      Yes  White  1999   16    Male      Yes     Yes       3\n",
      "\n",
      "[5226 rows x 9 columns]\n"
     ]
    }
   ],
   "source": [
    "print(df)"
   ]
  },
  {
   "cell_type": "code",
   "execution_count": 16,
   "id": "3e029ae0",
   "metadata": {},
   "outputs": [],
   "source": [
    "df.set_index('Unnamed: 0', inplace=True)"
   ]
  },
  {
   "cell_type": "code",
   "execution_count": 17,
   "id": "a0a0ac32",
   "metadata": {},
   "outputs": [],
   "source": [
    "df.index.name='SNo.'"
   ]
  },
  {
   "cell_type": "code",
   "execution_count": 18,
   "id": "84624df8",
   "metadata": {},
   "outputs": [
    {
     "name": "stdout",
     "output_type": "stream",
     "text": [
      "     released colour  year  age     sex employed citizen  checks\n",
      "SNo.                                                            \n",
      "1         Yes  White  2002   21    Male      Yes     Yes       3\n",
      "2          No  Black  1999   17    Male      Yes     Yes       3\n",
      "3         Yes  White  2000   24    Male      Yes     Yes       3\n",
      "4          No  Black  2000   46    Male      Yes     Yes       1\n",
      "5         Yes  Black  1999   27  Female      Yes     Yes       1\n",
      "...       ...    ...   ...  ...     ...      ...     ...     ...\n",
      "5222      Yes  White  2000   17    Male      Yes     Yes       0\n",
      "5223      Yes  White  2000   21  Female      Yes     Yes       0\n",
      "5224      Yes  Black  1999   21  Female      Yes     Yes       1\n",
      "5225       No  Black  1998   24    Male      Yes     Yes       4\n",
      "5226      Yes  White  1999   16    Male      Yes     Yes       3\n",
      "\n",
      "[5226 rows x 8 columns]\n"
     ]
    }
   ],
   "source": [
    "print(df)"
   ]
  },
  {
   "cell_type": "code",
   "execution_count": 21,
   "id": "d4304cec",
   "metadata": {},
   "outputs": [
    {
     "data": {
      "text/plain": [
       "<Figure size 500x500 with 0 Axes>"
      ]
     },
     "metadata": {},
     "output_type": "display_data"
    }
   ],
   "source": [
    "fig=plt.figure(figsize=(5,5))"
   ]
  },
  {
   "cell_type": "code",
   "execution_count": 12,
   "id": "7aebbfe3",
   "metadata": {},
   "outputs": [],
   "source": []
  },
  {
   "cell_type": "code",
   "execution_count": 19,
   "id": "9f5a583a",
   "metadata": {},
   "outputs": [
    {
     "name": "stdout",
     "output_type": "stream",
     "text": [
      "     released colour  year  age     sex employed citizen  checks\n",
      "SNo.                                                            \n",
      "1         Yes  White  2002   21    Male      Yes     Yes       3\n",
      "2          No  Black  1999   17    Male      Yes     Yes       3\n",
      "3         Yes  White  2000   24    Male      Yes     Yes       3\n",
      "4          No  Black  2000   46    Male      Yes     Yes       1\n",
      "5         Yes  Black  1999   27  Female      Yes     Yes       1\n",
      "...       ...    ...   ...  ...     ...      ...     ...     ...\n",
      "5222      Yes  White  2000   17    Male      Yes     Yes       0\n",
      "5223      Yes  White  2000   21  Female      Yes     Yes       0\n",
      "5224      Yes  Black  1999   21  Female      Yes     Yes       1\n",
      "5225       No  Black  1998   24    Male      Yes     Yes       4\n",
      "5226      Yes  White  1999   16    Male      Yes     Yes       3\n",
      "\n",
      "[5226 rows x 8 columns]\n"
     ]
    }
   ],
   "source": [
    "print(df)"
   ]
  },
  {
   "cell_type": "code",
   "execution_count": 22,
   "id": "25c29b6a",
   "metadata": {},
   "outputs": [],
   "source": [
    "ax=fig.add_subplot(1, 1, 1)"
   ]
  },
  {
   "cell_type": "code",
   "execution_count": 23,
   "id": "ea2a6374",
   "metadata": {},
   "outputs": [
    {
     "data": {
      "text/plain": [
       "<Axes: xlabel='SNo.'>"
      ]
     },
     "execution_count": 23,
     "metadata": {},
     "output_type": "execute_result"
    },
    {
     "data": {
      "image/png": "[encoded data removed]",
      "text/plain": [
       "<Figure size 640x480 with 1 Axes>"
      ]
     },
     "metadata": {},
     "output_type": "display_data"
    }
   ],
   "source": [
    "df.plot()"
   ]
  },
  {
   "cell_type": "code",
   "execution_count": 33,
   "id": "f1c719bc",
   "metadata": {},
   "outputs": [
    {
     "data": {
      "text/plain": [
       "(1970.0, 2010.0)"
      ]
     },
     "execution_count": 33,
     "metadata": {},
     "output_type": "execute_result"
    },
    {
     "data": {
      "image/png": "[encoded data removed]",
      "text/plain": [
       "<Figure size 640x480 with 1 Axes>"
      ]
     },
     "metadata": {},
     "output_type": "display_data"
    }
   ],
   "source": [
    "plt.ylim(1970, 2010)"
   ]
  },
  {
   "cell_type": "code",
   "execution_count": 34,
   "id": "5faf7153",
   "metadata": {},
   "outputs": [
    {
     "data": {
      "text/plain": [
       "(1.0, 50.0)"
      ]
     },
     "execution_count": 34,
     "metadata": {},
     "output_type": "execute_result"
    },
    {
     "data": {
      "image/png": "[encoded data removed]",
      "text/plain": [
       "<Figure size 640x480 with 1 Axes>"
      ]
     },
     "metadata": {},
     "output_type": "display_data"
    }
   ],
   "source": [
    "plt.xlim(1, 50)"
   ]
  },
  {
   "cell_type": "code",
   "execution_count": 39,
   "id": "959dbd61",
   "metadata": {},
   "outputs": [
    {
     "data": {
      "text/plain": [
       "[<matplotlib.lines.Line2D at 0x2b3e2091180>]"
      ]
     },
     "execution_count": 39,
     "metadata": {},
     "output_type": "execute_result"
    },
    {
     "data": {
      "image/png": "[encoded data removed]",
      "text/plain": [
       "<Figure size 640x480 with 1 Axes>"
      ]
     },
     "metadata": {},
     "output_type": "display_data"
    }
   ],
   "source": [
    "plt.plot(df.index[0:50], df.year[0:50], 'ko')"
   ]
  },
  {
   "cell_type": "code",
   "execution_count": 28,
   "id": "e72c965a",
   "metadata": {},
   "outputs": [],
   "source": [
    "plt.show()"
   ]
  },
  {
   "cell_type": "code",
   "execution_count": 41,
   "id": "5e39703a",
   "metadata": {},
   "outputs": [],
   "source": [
    "g1=df.groupby(df['year'])"
   ]
  },
  {
   "cell_type": "code",
   "execution_count": 238,
   "id": "d9133069",
   "metadata": {},
   "outputs": [
    {
     "data": {
      "text/html": [
       "<div>\n",
       "<style scoped>\n",
       "    .dataframe tbody tr th:only-of-type {\n",
       "        vertical-align: middle;\n",
       "    }\n",
       "\n",
       "    .dataframe tbody tr th {\n",
       "        vertical-align: top;\n",
       "    }\n",
       "\n",
       "    .dataframe thead th {\n",
       "        text-align: right;\n",
       "    }\n",
       "</style>\n",
       "<table border=\"1\" class=\"dataframe\">\n",
       "  <thead>\n",
       "    <tr style=\"text-align: right;\">\n",
       "      <th></th>\n",
       "      <th>released</th>\n",
       "      <th>colour</th>\n",
       "      <th>year</th>\n",
       "      <th>age</th>\n",
       "      <th>sex</th>\n",
       "      <th>employed</th>\n",
       "      <th>citizen</th>\n",
       "      <th>checks</th>\n",
       "      <th>release_date</th>\n",
       "      <th>years_arrested</th>\n",
       "    </tr>\n",
       "    <tr>\n",
       "      <th>SNo</th>\n",
       "      <th></th>\n",
       "      <th></th>\n",
       "      <th></th>\n",
       "      <th></th>\n",
       "      <th></th>\n",
       "      <th></th>\n",
       "      <th></th>\n",
       "      <th></th>\n",
       "      <th></th>\n",
       "      <th></th>\n",
       "    </tr>\n",
       "  </thead>\n",
       "  <tbody>\n",
       "    <tr>\n",
       "      <th>1</th>\n",
       "      <td>True</td>\n",
       "      <td>White</td>\n",
       "      <td>2002.0</td>\n",
       "      <td>21.0</td>\n",
       "      <td>Male</td>\n",
       "      <td>True</td>\n",
       "      <td>True</td>\n",
       "      <td>3.0</td>\n",
       "      <td>2003</td>\n",
       "      <td>1.0</td>\n",
       "    </tr>\n",
       "    <tr>\n",
       "      <th>2</th>\n",
       "      <td>False</td>\n",
       "      <td>Black</td>\n",
       "      <td>1999.0</td>\n",
       "      <td>17.0</td>\n",
       "      <td>Male</td>\n",
       "      <td>True</td>\n",
       "      <td>True</td>\n",
       "      <td>3.0</td>\n",
       "      <td>NaN</td>\n",
       "      <td>NaN</td>\n",
       "    </tr>\n",
       "    <tr>\n",
       "      <th>3</th>\n",
       "      <td>True</td>\n",
       "      <td>White</td>\n",
       "      <td>2000.0</td>\n",
       "      <td>24.0</td>\n",
       "      <td>Male</td>\n",
       "      <td>True</td>\n",
       "      <td>True</td>\n",
       "      <td>3.0</td>\n",
       "      <td>2003</td>\n",
       "      <td>3.0</td>\n",
       "    </tr>\n",
       "    <tr>\n",
       "      <th>4</th>\n",
       "      <td>False</td>\n",
       "      <td>Black</td>\n",
       "      <td>2000.0</td>\n",
       "      <td>46.0</td>\n",
       "      <td>Male</td>\n",
       "      <td>True</td>\n",
       "      <td>True</td>\n",
       "      <td>1.0</td>\n",
       "      <td>NaN</td>\n",
       "      <td>NaN</td>\n",
       "    </tr>\n",
       "    <tr>\n",
       "      <th>5</th>\n",
       "      <td>True</td>\n",
       "      <td>Black</td>\n",
       "      <td>1999.0</td>\n",
       "      <td>27.0</td>\n",
       "      <td>Female</td>\n",
       "      <td>True</td>\n",
       "      <td>True</td>\n",
       "      <td>1.0</td>\n",
       "      <td>2003</td>\n",
       "      <td>4.0</td>\n",
       "    </tr>\n",
       "  </tbody>\n",
       "</table>\n",
       "</div>"
      ],
      "text/plain": [
       "    released colour    year   age     sex employed citizen  checks   \n",
       "SNo                                                                  \n",
       "1       True  White  2002.0  21.0    Male     True    True     3.0  \\\n",
       "2      False  Black  1999.0  17.0    Male     True    True     3.0   \n",
       "3       True  White  2000.0  24.0    Male     True    True     3.0   \n",
       "4      False  Black  2000.0  46.0    Male     True    True     1.0   \n",
       "5       True  Black  1999.0  27.0  Female     True    True     1.0   \n",
       "\n",
       "    release_date  years_arrested  \n",
       "SNo                               \n",
       "1           2003             1.0  \n",
       "2            NaN             NaN  \n",
       "3           2003             3.0  \n",
       "4            NaN             NaN  \n",
       "5           2003             4.0  "
      ]
     },
     "execution_count": 238,
     "metadata": {},
     "output_type": "execute_result"
    }
   ],
   "source": [
    "df.head()"
   ]
  },
  {
   "cell_type": "code",
   "execution_count": 42,
   "id": "c3c25b3c",
   "metadata": {},
   "outputs": [
    {
     "name": "stdout",
     "output_type": "stream",
     "text": [
      "<pandas.core.groupby.generic.DataFrameGroupBy object at 0x000002B3E1CD5EA0>\n"
     ]
    }
   ],
   "source": [
    "print(g1)"
   ]
  },
  {
   "cell_type": "code",
   "execution_count": 240,
   "id": "b4f18884",
   "metadata": {},
   "outputs": [
    {
     "data": {
      "text/plain": [
       "(5227, 10)"
      ]
     },
     "execution_count": 240,
     "metadata": {},
     "output_type": "execute_result"
    }
   ],
   "source": [
    "df.shape"
   ]
  },
  {
   "cell_type": "code",
   "execution_count": 56,
   "id": "c2d35d86",
   "metadata": {},
   "outputs": [],
   "source": [
    "gy={}"
   ]
  },
  {
   "cell_type": "code",
   "execution_count": 58,
   "id": "07f8ac2b",
   "metadata": {},
   "outputs": [],
   "source": [
    "for item, df1 in g1:\n",
    "    gy[item]=len(df1)"
   ]
  },
  {
   "cell_type": "code",
   "execution_count": 59,
   "id": "6483feb7",
   "metadata": {},
   "outputs": [
    {
     "name": "stdout",
     "output_type": "stream",
     "text": [
      "{1997: 492, 1998: 877, 1999: 1099, 2000: 1270, 2001: 1211, 2002: 277}\n"
     ]
    }
   ],
   "source": [
    "print(gy)"
   ]
  },
  {
   "cell_type": "code",
   "execution_count": 60,
   "id": "c13ccbaf",
   "metadata": {},
   "outputs": [],
   "source": [
    "sy=pd.Series(gy)"
   ]
  },
  {
   "cell_type": "code",
   "execution_count": 241,
   "id": "14a12a37",
   "metadata": {},
   "outputs": [
    {
     "data": {
      "text/plain": [
       "5226"
      ]
     },
     "execution_count": 241,
     "metadata": {},
     "output_type": "execute_result"
    }
   ],
   "source": [
    "sy.sum()"
   ]
  },
  {
   "cell_type": "code",
   "execution_count": 61,
   "id": "60f7c9a9",
   "metadata": {},
   "outputs": [
    {
     "name": "stdout",
     "output_type": "stream",
     "text": [
      "1997     492\n",
      "1998     877\n",
      "1999    1099\n",
      "2000    1270\n",
      "2001    1211\n",
      "2002     277\n",
      "dtype: int64\n"
     ]
    }
   ],
   "source": [
    "print(sy)"
   ]
  },
  {
   "cell_type": "code",
   "execution_count": 63,
   "id": "bb67b448",
   "metadata": {},
   "outputs": [
    {
     "data": {
      "text/plain": [
       "<Axes: title={'center': 'Arrests in years'}>"
      ]
     },
     "execution_count": 63,
     "metadata": {},
     "output_type": "execute_result"
    },
    {
     "data": {
      "image/png": "[encoded data removed]",
      "text/plain": [
       "<Figure size 640x480 with 1 Axes>"
      ]
     },
     "metadata": {},
     "output_type": "display_data"
    }
   ],
   "source": [
    "sy.plot(kind='bar', alpha=0.5, rot=90, use_index=True, title='Arrests in years')"
   ]
  },
  {
   "cell_type": "code",
   "execution_count": 64,
   "id": "168e66b2",
   "metadata": {},
   "outputs": [],
   "source": [
    "dfm=df[df['sex']=='Male']"
   ]
  },
  {
   "cell_type": "code",
   "execution_count": 66,
   "id": "2c227dba",
   "metadata": {},
   "outputs": [],
   "source": [
    "dff=df[df['sex']=='Female']"
   ]
  },
  {
   "cell_type": "code",
   "execution_count": 67,
   "id": "7b1de319",
   "metadata": {},
   "outputs": [],
   "source": [
    "dfc=pd.DataFrame()"
   ]
  },
  {
   "cell_type": "code",
   "execution_count": 69,
   "id": "790ff4b0",
   "metadata": {},
   "outputs": [],
   "source": [
    "for item, df1 in dfm.groupby(df['year']):\n",
    "    gy[item]=len(df1)"
   ]
  },
  {
   "cell_type": "code",
   "execution_count": 70,
   "id": "c2277c18",
   "metadata": {},
   "outputs": [],
   "source": [
    "dfc['Male']=pd.Series(gy)"
   ]
  },
  {
   "cell_type": "code",
   "execution_count": 72,
   "id": "1ba1d70f",
   "metadata": {},
   "outputs": [],
   "source": [
    "for item, df1 in dff.groupby(df['year']):\n",
    "    gy[item]=len(df1)"
   ]
  },
  {
   "cell_type": "code",
   "execution_count": 73,
   "id": "d99854c9",
   "metadata": {},
   "outputs": [],
   "source": [
    "dfc['Female']=pd.Series(gy)"
   ]
  },
  {
   "cell_type": "code",
   "execution_count": 74,
   "id": "e6d09ae4",
   "metadata": {},
   "outputs": [
    {
     "data": {
      "text/plain": [
       "<Axes: >"
      ]
     },
     "execution_count": 74,
     "metadata": {},
     "output_type": "execute_result"
    },
    {
     "data": {
      "image/png": "[encoded data removed]",
      "text/plain": [
       "<Figure size 640x480 with 1 Axes>"
      ]
     },
     "metadata": {},
     "output_type": "display_data"
    }
   ],
   "source": [
    "dfc.plot()"
   ]
  },
  {
   "cell_type": "code",
   "execution_count": 75,
   "id": "fae55165",
   "metadata": {},
   "outputs": [],
   "source": [
    "df=df.replace({\"Yes\": True, \"No\": False})"
   ]
  },
  {
   "cell_type": "code",
   "execution_count": 76,
   "id": "a3fb1f4c",
   "metadata": {},
   "outputs": [
    {
     "name": "stdout",
     "output_type": "stream",
     "text": [
      "      released colour  year  age     sex  employed  citizen  checks\n",
      "SNo.                                                               \n",
      "1         True  White  2002   21    Male      True     True       3\n",
      "2        False  Black  1999   17    Male      True     True       3\n",
      "3         True  White  2000   24    Male      True     True       3\n",
      "4        False  Black  2000   46    Male      True     True       1\n",
      "5         True  Black  1999   27  Female      True     True       1\n",
      "...        ...    ...   ...  ...     ...       ...      ...     ...\n",
      "5222      True  White  2000   17    Male      True     True       0\n",
      "5223      True  White  2000   21  Female      True     True       0\n",
      "5224      True  Black  1999   21  Female      True     True       1\n",
      "5225     False  Black  1998   24    Male      True     True       4\n",
      "5226      True  White  1999   16    Male      True     True       3\n",
      "\n",
      "[5226 rows x 8 columns]\n"
     ]
    }
   ],
   "source": [
    "print(df)"
   ]
  },
  {
   "cell_type": "code",
   "execution_count": 82,
   "id": "5044edde",
   "metadata": {},
   "outputs": [],
   "source": [
    "df.index.name='SNo'"
   ]
  },
  {
   "cell_type": "code",
   "execution_count": 87,
   "id": "f913cfde",
   "metadata": {},
   "outputs": [
    {
     "data": {
      "text/plain": [
       "<matplotlib.collections.PathCollection at 0x2b3e6ddbee0>"
      ]
     },
     "execution_count": 87,
     "metadata": {},
     "output_type": "execute_result"
    },
    {
     "data": {
      "image/png": "[encoded data removed]",
      "text/plain": [
       "<Figure size 640x480 with 1 Axes>"
      ]
     },
     "metadata": {},
     "output_type": "display_data"
    }
   ],
   "source": [
    "plt.scatter(df.index[0:50], df.age[0:50], marker=',')"
   ]
  },
  {
   "cell_type": "code",
   "execution_count": 89,
   "id": "c8ac913d",
   "metadata": {},
   "outputs": [],
   "source": [
    "df3=pd.crosstab(df.year, df.sex)"
   ]
  },
  {
   "cell_type": "code",
   "execution_count": 90,
   "id": "49758669",
   "metadata": {},
   "outputs": [
    {
     "name": "stdout",
     "output_type": "stream",
     "text": [
      "sex   Female  Male\n",
      "year              \n",
      "1997      32   460\n",
      "1998      95   782\n",
      "1999     100   999\n",
      "2000     105  1165\n",
      "2001      93  1118\n",
      "2002      18   259\n"
     ]
    }
   ],
   "source": [
    "print(df3)"
   ]
  },
  {
   "cell_type": "code",
   "execution_count": 91,
   "id": "9a65a218",
   "metadata": {},
   "outputs": [
    {
     "data": {
      "text/plain": [
       "<Axes: xlabel='year'>"
      ]
     },
     "execution_count": 91,
     "metadata": {},
     "output_type": "execute_result"
    },
    {
     "data": {
      "image/png": "[encoded data removed]",
      "text/plain": [
       "<Figure size 640x480 with 1 Axes>"
      ]
     },
     "metadata": {},
     "output_type": "display_data"
    }
   ],
   "source": [
    "df3.plot()"
   ]
  },
  {
   "cell_type": "code",
   "execution_count": 95,
   "id": "f0465080",
   "metadata": {},
   "outputs": [],
   "source": [
    "df4=pd.crosstab(df.age, df.year)"
   ]
  },
  {
   "cell_type": "code",
   "execution_count": 96,
   "id": "99e72232",
   "metadata": {},
   "outputs": [
    {
     "name": "stdout",
     "output_type": "stream",
     "text": [
      "year  1997  1998  1999  2000  2001  2002\n",
      "age                                     \n",
      "12       1     1     1     0     1     0\n",
      "13       2     1     5     5     5     0\n",
      "14       7    25    13    14    20     6\n",
      "15      19    29    35    50    57    12\n",
      "16      36    57    42    82    67    23\n",
      "17      45    75    90   130    85    18\n",
      "18      47    86    85   123   116    19\n",
      "19      42    67   115   115   108    26\n",
      "20      34    67    82    98    92    25\n",
      "21      41    56    84    90    85    26\n",
      "22      22    57    62    70    63    13\n",
      "23      20    38    52    62    59     9\n",
      "24      11    35    51    58    52    12\n",
      "25       6    30    35    37    35    10\n",
      "26      13    30    27    29    31    12\n",
      "27      21    16    20    25    30     7\n",
      "28       9    21    33    19    24     5\n",
      "29      11    11    29    15    18     6\n",
      "30      10    15    18    24    24     6\n",
      "31       8     5    14    25    14     4\n",
      "32      11    11    15    14    18     2\n",
      "33       8    16    22    20    20     3\n",
      "34       8    18    23    17    15     3\n",
      "35       4     8    17    15    15     4\n",
      "36       4    15    16    15    23     6\n",
      "37       6     8    20    13    18     2\n",
      "38       1    14     8    13    13     2\n",
      "39       5    10    19    12    13     1\n",
      "40       3    14     7    11    16     2\n",
      "41       6     9     8    11     9     2\n",
      "42       6     3     9     7     9     1\n",
      "43       5     2    11     4     7     1\n",
      "44       4     4     4     8     9     0\n",
      "45       1     3     6     8    12     4\n",
      "46       1     3     4     1     5     1\n",
      "47       5     1     3     3     4     0\n",
      "48       2     2     4     7     4     0\n",
      "49       0     4     1     7     0     0\n",
      "50       0     1     2     2     1     0\n",
      "51       2     1     3     1     2     1\n",
      "52       0     4     0     2     0     0\n",
      "53       1     2     0     0     4     1\n",
      "54       1     0     2     2     3     0\n",
      "55       0     1     1     1     0     0\n",
      "56       0     0     0     0     0     1\n",
      "57       0     0     1     0     0     0\n",
      "58       0     0     0     1     0     0\n",
      "59       0     1     0     0     2     1\n",
      "60       0     0     0     1     1     0\n",
      "61       0     0     0     1     1     0\n",
      "62       1     0     0     0     0     0\n",
      "64       2     0     0     0     1     0\n",
      "66       0     0     0     2     0     0\n"
     ]
    }
   ],
   "source": [
    "print(df4)"
   ]
  },
  {
   "cell_type": "code",
   "execution_count": 98,
   "id": "4ff9cdc1",
   "metadata": {},
   "outputs": [
    {
     "data": {
      "text/plain": [
       "<Axes: title={'center': 'Arrests by age'}, xlabel='age'>"
      ]
     },
     "execution_count": 98,
     "metadata": {},
     "output_type": "execute_result"
    },
    {
     "data": {
      "image/png": "[encoded data removed]",
      "text/plain": [
       "<Figure size 640x480 with 1 Axes>"
      ]
     },
     "metadata": {},
     "output_type": "display_data"
    }
   ],
   "source": [
    "df4.plot(title='Arrests by age')"
   ]
  },
  {
   "cell_type": "code",
   "execution_count": 101,
   "id": "c3f35433",
   "metadata": {},
   "outputs": [
    {
     "data": {
      "text/plain": [
       "<Axes: xlabel='SNo'>"
      ]
     },
     "execution_count": 101,
     "metadata": {},
     "output_type": "execute_result"
    },
    {
     "data": {
      "image/png": "[encoded data removed]",
      "text/plain": [
       "<Figure size 640x480 with 1 Axes>"
      ]
     },
     "metadata": {},
     "output_type": "display_data"
    }
   ],
   "source": [
    "df[0:100][['age', 'checks']].plot()"
   ]
  },
  {
   "cell_type": "code",
   "execution_count": 112,
   "id": "7615fd61",
   "metadata": {},
   "outputs": [],
   "source": [
    "mins=df.select_dtypes(exclude=['bool', 'object']).idxmin()"
   ]
  },
  {
   "cell_type": "code",
   "execution_count": 122,
   "id": "9bc038f4",
   "metadata": {},
   "outputs": [
    {
     "name": "stdout",
     "output_type": "stream",
     "text": [
      "Minimum year is 1999\n",
      "Minimum age is 22\n",
      "Minimum checks is 0\n"
     ]
    }
   ],
   "source": [
    "for item in mins.index:\n",
    "    print(\"Minimum \"+item+\" is \"+str(df.iloc[mins[item]][item]))"
   ]
  },
  {
   "cell_type": "code",
   "execution_count": 123,
   "id": "40c4691c",
   "metadata": {},
   "outputs": [
    {
     "data": {
      "text/html": [
       "<div>\n",
       "<style scoped>\n",
       "    .dataframe tbody tr th:only-of-type {\n",
       "        vertical-align: middle;\n",
       "    }\n",
       "\n",
       "    .dataframe tbody tr th {\n",
       "        vertical-align: top;\n",
       "    }\n",
       "\n",
       "    .dataframe thead th {\n",
       "        text-align: right;\n",
       "    }\n",
       "</style>\n",
       "<table border=\"1\" class=\"dataframe\">\n",
       "  <thead>\n",
       "    <tr style=\"text-align: right;\">\n",
       "      <th></th>\n",
       "      <th>year</th>\n",
       "      <th>age</th>\n",
       "      <th>checks</th>\n",
       "    </tr>\n",
       "  </thead>\n",
       "  <tbody>\n",
       "    <tr>\n",
       "      <th>count</th>\n",
       "      <td>5226.000000</td>\n",
       "      <td>5226.000000</td>\n",
       "      <td>5226.000000</td>\n",
       "    </tr>\n",
       "    <tr>\n",
       "      <th>mean</th>\n",
       "      <td>1999.509376</td>\n",
       "      <td>23.846537</td>\n",
       "      <td>1.636433</td>\n",
       "    </tr>\n",
       "    <tr>\n",
       "      <th>std</th>\n",
       "      <td>1.390056</td>\n",
       "      <td>8.316133</td>\n",
       "      <td>1.539230</td>\n",
       "    </tr>\n",
       "    <tr>\n",
       "      <th>min</th>\n",
       "      <td>1997.000000</td>\n",
       "      <td>12.000000</td>\n",
       "      <td>0.000000</td>\n",
       "    </tr>\n",
       "    <tr>\n",
       "      <th>25%</th>\n",
       "      <td>1998.000000</td>\n",
       "      <td>18.000000</td>\n",
       "      <td>0.000000</td>\n",
       "    </tr>\n",
       "    <tr>\n",
       "      <th>50%</th>\n",
       "      <td>2000.000000</td>\n",
       "      <td>21.000000</td>\n",
       "      <td>1.000000</td>\n",
       "    </tr>\n",
       "    <tr>\n",
       "      <th>75%</th>\n",
       "      <td>2001.000000</td>\n",
       "      <td>27.000000</td>\n",
       "      <td>3.000000</td>\n",
       "    </tr>\n",
       "    <tr>\n",
       "      <th>max</th>\n",
       "      <td>2002.000000</td>\n",
       "      <td>66.000000</td>\n",
       "      <td>6.000000</td>\n",
       "    </tr>\n",
       "  </tbody>\n",
       "</table>\n",
       "</div>"
      ],
      "text/plain": [
       "              year          age       checks\n",
       "count  5226.000000  5226.000000  5226.000000\n",
       "mean   1999.509376    23.846537     1.636433\n",
       "std       1.390056     8.316133     1.539230\n",
       "min    1997.000000    12.000000     0.000000\n",
       "25%    1998.000000    18.000000     0.000000\n",
       "50%    2000.000000    21.000000     1.000000\n",
       "75%    2001.000000    27.000000     3.000000\n",
       "max    2002.000000    66.000000     6.000000"
      ]
     },
     "execution_count": 123,
     "metadata": {},
     "output_type": "execute_result"
    }
   ],
   "source": [
    "df.describe()"
   ]
  },
  {
   "cell_type": "code",
   "execution_count": 126,
   "id": "69688e74",
   "metadata": {},
   "outputs": [],
   "source": [
    "dfs=df.stack()"
   ]
  },
  {
   "cell_type": "code",
   "execution_count": 128,
   "id": "a08ea140",
   "metadata": {},
   "outputs": [
    {
     "name": "stdout",
     "output_type": "stream",
     "text": [
      "SNo           \n",
      "1     released     True\n",
      "      colour      White\n",
      "      year         2002\n",
      "      age            21\n",
      "      sex          Male\n",
      "                  ...  \n",
      "5226  age            16\n",
      "      sex          Male\n",
      "      employed     True\n",
      "      citizen      True\n",
      "      checks          3\n",
      "Length: 41808, dtype: object\n"
     ]
    }
   ],
   "source": [
    "print(dfs)"
   ]
  },
  {
   "cell_type": "code",
   "execution_count": 134,
   "id": "12426bfe",
   "metadata": {},
   "outputs": [],
   "source": [
    "dfs=pd.DataFrame(df)"
   ]
  },
  {
   "cell_type": "code",
   "execution_count": 153,
   "id": "2f67e46c",
   "metadata": {},
   "outputs": [],
   "source": [
    "import numpy as np"
   ]
  },
  {
   "cell_type": "code",
   "execution_count": 158,
   "id": "a50b8d24",
   "metadata": {},
   "outputs": [
    {
     "name": "stdout",
     "output_type": "stream",
     "text": [
      "[False  True False ... False  True False]\n"
     ]
    },
    {
     "data": {
      "text/html": [
       "<div>\n",
       "<style scoped>\n",
       "    .dataframe tbody tr th:only-of-type {\n",
       "        vertical-align: middle;\n",
       "    }\n",
       "\n",
       "    .dataframe tbody tr th {\n",
       "        vertical-align: top;\n",
       "    }\n",
       "\n",
       "    .dataframe thead th {\n",
       "        text-align: right;\n",
       "    }\n",
       "</style>\n",
       "<table border=\"1\" class=\"dataframe\">\n",
       "  <thead>\n",
       "    <tr style=\"text-align: right;\">\n",
       "      <th></th>\n",
       "      <th>released</th>\n",
       "      <th>colour</th>\n",
       "      <th>year</th>\n",
       "      <th>age</th>\n",
       "      <th>sex</th>\n",
       "      <th>employed</th>\n",
       "      <th>citizen</th>\n",
       "      <th>checks</th>\n",
       "    </tr>\n",
       "    <tr>\n",
       "      <th>SNo</th>\n",
       "      <th></th>\n",
       "      <th></th>\n",
       "      <th></th>\n",
       "      <th></th>\n",
       "      <th></th>\n",
       "      <th></th>\n",
       "      <th></th>\n",
       "      <th></th>\n",
       "    </tr>\n",
       "  </thead>\n",
       "  <tbody>\n",
       "    <tr>\n",
       "      <th>1</th>\n",
       "      <td>True</td>\n",
       "      <td>White</td>\n",
       "      <td>2002</td>\n",
       "      <td>21</td>\n",
       "      <td>Male</td>\n",
       "      <td>True</td>\n",
       "      <td>True</td>\n",
       "      <td>3</td>\n",
       "    </tr>\n",
       "    <tr>\n",
       "      <th>3</th>\n",
       "      <td>True</td>\n",
       "      <td>White</td>\n",
       "      <td>2000</td>\n",
       "      <td>24</td>\n",
       "      <td>Male</td>\n",
       "      <td>True</td>\n",
       "      <td>True</td>\n",
       "      <td>3</td>\n",
       "    </tr>\n",
       "    <tr>\n",
       "      <th>5</th>\n",
       "      <td>True</td>\n",
       "      <td>Black</td>\n",
       "      <td>1999</td>\n",
       "      <td>27</td>\n",
       "      <td>Female</td>\n",
       "      <td>True</td>\n",
       "      <td>True</td>\n",
       "      <td>1</td>\n",
       "    </tr>\n",
       "    <tr>\n",
       "      <th>6</th>\n",
       "      <td>True</td>\n",
       "      <td>Black</td>\n",
       "      <td>1998</td>\n",
       "      <td>16</td>\n",
       "      <td>Female</td>\n",
       "      <td>True</td>\n",
       "      <td>True</td>\n",
       "      <td>0</td>\n",
       "    </tr>\n",
       "    <tr>\n",
       "      <th>7</th>\n",
       "      <td>True</td>\n",
       "      <td>White</td>\n",
       "      <td>1999</td>\n",
       "      <td>40</td>\n",
       "      <td>Male</td>\n",
       "      <td>False</td>\n",
       "      <td>True</td>\n",
       "      <td>0</td>\n",
       "    </tr>\n",
       "    <tr>\n",
       "      <th>...</th>\n",
       "      <td>...</td>\n",
       "      <td>...</td>\n",
       "      <td>...</td>\n",
       "      <td>...</td>\n",
       "      <td>...</td>\n",
       "      <td>...</td>\n",
       "      <td>...</td>\n",
       "      <td>...</td>\n",
       "    </tr>\n",
       "    <tr>\n",
       "      <th>5221</th>\n",
       "      <td>True</td>\n",
       "      <td>White</td>\n",
       "      <td>2002</td>\n",
       "      <td>22</td>\n",
       "      <td>Male</td>\n",
       "      <td>True</td>\n",
       "      <td>True</td>\n",
       "      <td>0</td>\n",
       "    </tr>\n",
       "    <tr>\n",
       "      <th>5222</th>\n",
       "      <td>True</td>\n",
       "      <td>White</td>\n",
       "      <td>2000</td>\n",
       "      <td>17</td>\n",
       "      <td>Male</td>\n",
       "      <td>True</td>\n",
       "      <td>True</td>\n",
       "      <td>0</td>\n",
       "    </tr>\n",
       "    <tr>\n",
       "      <th>5223</th>\n",
       "      <td>True</td>\n",
       "      <td>White</td>\n",
       "      <td>2000</td>\n",
       "      <td>21</td>\n",
       "      <td>Female</td>\n",
       "      <td>True</td>\n",
       "      <td>True</td>\n",
       "      <td>0</td>\n",
       "    </tr>\n",
       "    <tr>\n",
       "      <th>5224</th>\n",
       "      <td>True</td>\n",
       "      <td>Black</td>\n",
       "      <td>1999</td>\n",
       "      <td>21</td>\n",
       "      <td>Female</td>\n",
       "      <td>True</td>\n",
       "      <td>True</td>\n",
       "      <td>1</td>\n",
       "    </tr>\n",
       "    <tr>\n",
       "      <th>5226</th>\n",
       "      <td>True</td>\n",
       "      <td>White</td>\n",
       "      <td>1999</td>\n",
       "      <td>16</td>\n",
       "      <td>Male</td>\n",
       "      <td>True</td>\n",
       "      <td>True</td>\n",
       "      <td>3</td>\n",
       "    </tr>\n",
       "  </tbody>\n",
       "</table>\n",
       "<p>4334 rows × 8 columns</p>\n",
       "</div>"
      ],
      "text/plain": [
       "      released colour  year  age     sex  employed  citizen  checks\n",
       "SNo                                                                \n",
       "1         True  White  2002   21    Male      True     True       3\n",
       "3         True  White  2000   24    Male      True     True       3\n",
       "5         True  Black  1999   27  Female      True     True       1\n",
       "6         True  Black  1998   16  Female      True     True       0\n",
       "7         True  White  1999   40    Male     False     True       0\n",
       "...        ...    ...   ...  ...     ...       ...      ...     ...\n",
       "5221      True  White  2002   22    Male      True     True       0\n",
       "5222      True  White  2000   17    Male      True     True       0\n",
       "5223      True  White  2000   21  Female      True     True       0\n",
       "5224      True  Black  1999   21  Female      True     True       1\n",
       "5226      True  White  1999   16    Male      True     True       3\n",
       "\n",
       "[4334 rows x 8 columns]"
      ]
     },
     "execution_count": 158,
     "metadata": {},
     "output_type": "execute_result"
    }
   ],
   "source": [
    "#df[df.where(df['released']==False)]\n",
    "#q=np.array(df['released']==False)\n",
    "#print(q)\n",
    "df[df['released']==True]"
   ]
  },
  {
   "cell_type": "code",
   "execution_count": 147,
   "id": "1e3674fa",
   "metadata": {},
   "outputs": [
    {
     "data": {
      "text/html": [
       "<div>\n",
       "<style scoped>\n",
       "    .dataframe tbody tr th:only-of-type {\n",
       "        vertical-align: middle;\n",
       "    }\n",
       "\n",
       "    .dataframe tbody tr th {\n",
       "        vertical-align: top;\n",
       "    }\n",
       "\n",
       "    .dataframe thead th {\n",
       "        text-align: right;\n",
       "    }\n",
       "</style>\n",
       "<table border=\"1\" class=\"dataframe\">\n",
       "  <thead>\n",
       "    <tr style=\"text-align: right;\">\n",
       "      <th></th>\n",
       "      <th>level_0</th>\n",
       "      <th>index</th>\n",
       "      <th>SNo</th>\n",
       "      <th>released</th>\n",
       "      <th>colour</th>\n",
       "      <th>year</th>\n",
       "      <th>age</th>\n",
       "      <th>sex</th>\n",
       "      <th>employed</th>\n",
       "      <th>citizen</th>\n",
       "      <th>checks</th>\n",
       "    </tr>\n",
       "  </thead>\n",
       "  <tbody>\n",
       "    <tr>\n",
       "      <th>0</th>\n",
       "      <td>0</td>\n",
       "      <td>0</td>\n",
       "      <td>1</td>\n",
       "      <td>True</td>\n",
       "      <td>White</td>\n",
       "      <td>2002</td>\n",
       "      <td>21</td>\n",
       "      <td>Male</td>\n",
       "      <td>True</td>\n",
       "      <td>True</td>\n",
       "      <td>3</td>\n",
       "    </tr>\n",
       "    <tr>\n",
       "      <th>1</th>\n",
       "      <td>1</td>\n",
       "      <td>1</td>\n",
       "      <td>2</td>\n",
       "      <td>False</td>\n",
       "      <td>Black</td>\n",
       "      <td>1999</td>\n",
       "      <td>17</td>\n",
       "      <td>Male</td>\n",
       "      <td>True</td>\n",
       "      <td>True</td>\n",
       "      <td>3</td>\n",
       "    </tr>\n",
       "    <tr>\n",
       "      <th>2</th>\n",
       "      <td>2</td>\n",
       "      <td>2</td>\n",
       "      <td>3</td>\n",
       "      <td>True</td>\n",
       "      <td>White</td>\n",
       "      <td>2000</td>\n",
       "      <td>24</td>\n",
       "      <td>Male</td>\n",
       "      <td>True</td>\n",
       "      <td>True</td>\n",
       "      <td>3</td>\n",
       "    </tr>\n",
       "    <tr>\n",
       "      <th>3</th>\n",
       "      <td>3</td>\n",
       "      <td>3</td>\n",
       "      <td>4</td>\n",
       "      <td>False</td>\n",
       "      <td>Black</td>\n",
       "      <td>2000</td>\n",
       "      <td>46</td>\n",
       "      <td>Male</td>\n",
       "      <td>True</td>\n",
       "      <td>True</td>\n",
       "      <td>1</td>\n",
       "    </tr>\n",
       "    <tr>\n",
       "      <th>4</th>\n",
       "      <td>4</td>\n",
       "      <td>4</td>\n",
       "      <td>5</td>\n",
       "      <td>True</td>\n",
       "      <td>Black</td>\n",
       "      <td>1999</td>\n",
       "      <td>27</td>\n",
       "      <td>Female</td>\n",
       "      <td>True</td>\n",
       "      <td>True</td>\n",
       "      <td>1</td>\n",
       "    </tr>\n",
       "    <tr>\n",
       "      <th>...</th>\n",
       "      <td>...</td>\n",
       "      <td>...</td>\n",
       "      <td>...</td>\n",
       "      <td>...</td>\n",
       "      <td>...</td>\n",
       "      <td>...</td>\n",
       "      <td>...</td>\n",
       "      <td>...</td>\n",
       "      <td>...</td>\n",
       "      <td>...</td>\n",
       "      <td>...</td>\n",
       "    </tr>\n",
       "    <tr>\n",
       "      <th>5221</th>\n",
       "      <td>5221</td>\n",
       "      <td>5221</td>\n",
       "      <td>5222</td>\n",
       "      <td>True</td>\n",
       "      <td>White</td>\n",
       "      <td>2000</td>\n",
       "      <td>17</td>\n",
       "      <td>Male</td>\n",
       "      <td>True</td>\n",
       "      <td>True</td>\n",
       "      <td>0</td>\n",
       "    </tr>\n",
       "    <tr>\n",
       "      <th>5222</th>\n",
       "      <td>5222</td>\n",
       "      <td>5222</td>\n",
       "      <td>5223</td>\n",
       "      <td>True</td>\n",
       "      <td>White</td>\n",
       "      <td>2000</td>\n",
       "      <td>21</td>\n",
       "      <td>Female</td>\n",
       "      <td>True</td>\n",
       "      <td>True</td>\n",
       "      <td>0</td>\n",
       "    </tr>\n",
       "    <tr>\n",
       "      <th>5223</th>\n",
       "      <td>5223</td>\n",
       "      <td>5223</td>\n",
       "      <td>5224</td>\n",
       "      <td>True</td>\n",
       "      <td>Black</td>\n",
       "      <td>1999</td>\n",
       "      <td>21</td>\n",
       "      <td>Female</td>\n",
       "      <td>True</td>\n",
       "      <td>True</td>\n",
       "      <td>1</td>\n",
       "    </tr>\n",
       "    <tr>\n",
       "      <th>5224</th>\n",
       "      <td>5224</td>\n",
       "      <td>5224</td>\n",
       "      <td>5225</td>\n",
       "      <td>False</td>\n",
       "      <td>Black</td>\n",
       "      <td>1998</td>\n",
       "      <td>24</td>\n",
       "      <td>Male</td>\n",
       "      <td>True</td>\n",
       "      <td>True</td>\n",
       "      <td>4</td>\n",
       "    </tr>\n",
       "    <tr>\n",
       "      <th>5225</th>\n",
       "      <td>5225</td>\n",
       "      <td>5225</td>\n",
       "      <td>5226</td>\n",
       "      <td>True</td>\n",
       "      <td>White</td>\n",
       "      <td>1999</td>\n",
       "      <td>16</td>\n",
       "      <td>Male</td>\n",
       "      <td>True</td>\n",
       "      <td>True</td>\n",
       "      <td>3</td>\n",
       "    </tr>\n",
       "  </tbody>\n",
       "</table>\n",
       "<p>5226 rows × 11 columns</p>\n",
       "</div>"
      ],
      "text/plain": [
       "      level_0  index   SNo  released colour  year  age     sex  employed   \n",
       "0           0      0     1      True  White  2002   21    Male      True  \\\n",
       "1           1      1     2     False  Black  1999   17    Male      True   \n",
       "2           2      2     3      True  White  2000   24    Male      True   \n",
       "3           3      3     4     False  Black  2000   46    Male      True   \n",
       "4           4      4     5      True  Black  1999   27  Female      True   \n",
       "...       ...    ...   ...       ...    ...   ...  ...     ...       ...   \n",
       "5221     5221   5221  5222      True  White  2000   17    Male      True   \n",
       "5222     5222   5222  5223      True  White  2000   21  Female      True   \n",
       "5223     5223   5223  5224      True  Black  1999   21  Female      True   \n",
       "5224     5224   5224  5225     False  Black  1998   24    Male      True   \n",
       "5225     5225   5225  5226      True  White  1999   16    Male      True   \n",
       "\n",
       "      citizen  checks  \n",
       "0        True       3  \n",
       "1        True       3  \n",
       "2        True       3  \n",
       "3        True       1  \n",
       "4        True       1  \n",
       "...       ...     ...  \n",
       "5221     True       0  \n",
       "5222     True       0  \n",
       "5223     True       1  \n",
       "5224     True       4  \n",
       "5225     True       3  \n",
       "\n",
       "[5226 rows x 11 columns]"
      ]
     },
     "execution_count": 147,
     "metadata": {},
     "output_type": "execute_result"
    }
   ],
   "source": [
    "dfs.reset_index(inplace=True)\n",
    "#dfs.set_index(dfs.SNo)\n",
    "dfs"
   ]
  },
  {
   "cell_type": "code",
   "execution_count": 178,
   "id": "c38d58d7",
   "metadata": {},
   "outputs": [],
   "source": [
    "rel_date=pd.Series((2003)*len(df))"
   ]
  },
  {
   "cell_type": "code",
   "execution_count": 179,
   "id": "a82f204c",
   "metadata": {},
   "outputs": [],
   "source": [
    "ind=df.index[df['released'] == False].tolist()"
   ]
  },
  {
   "cell_type": "code",
   "execution_count": 180,
   "id": "0ecc84fc",
   "metadata": {},
   "outputs": [],
   "source": [
    "df.loc['release_date',ind]=np.nan"
   ]
  },
  {
   "cell_type": "code",
   "execution_count": 181,
   "id": "1c3919f2",
   "metadata": {},
   "outputs": [
    {
     "data": {
      "text/plain": [
       "SNo\n",
       "1               2003\n",
       "2                NaN\n",
       "3               2003\n",
       "4                NaN\n",
       "5               2003\n",
       "                ... \n",
       "5223            2003\n",
       "5224            2003\n",
       "5225             NaN\n",
       "5226            2003\n",
       "release_date     NaN\n",
       "Name: release_date, Length: 5227, dtype: object"
      ]
     },
     "execution_count": 181,
     "metadata": {},
     "output_type": "execute_result"
    }
   ],
   "source": [
    "df['release_date']"
   ]
  },
  {
   "cell_type": "code",
   "execution_count": 214,
   "id": "2f67a29e",
   "metadata": {},
   "outputs": [],
   "source": [
    "df['years_arrested']=df['release_date'].astype(float)-df['year'].astype(float)"
   ]
  },
  {
   "cell_type": "code",
   "execution_count": 186,
   "id": "1400fda9",
   "metadata": {},
   "outputs": [
    {
     "data": {
      "text/plain": [
       "SNo\n",
       "1               1.0\n",
       "2               NaN\n",
       "3               3.0\n",
       "4               NaN\n",
       "5               4.0\n",
       "               ... \n",
       "5223            3.0\n",
       "5224            4.0\n",
       "5225            NaN\n",
       "5226            4.0\n",
       "release_date    NaN\n",
       "Name: years_arrested, Length: 5227, dtype: float64"
      ]
     },
     "execution_count": 186,
     "metadata": {},
     "output_type": "execute_result"
    }
   ],
   "source": [
    "df['years_arrested']"
   ]
  },
  {
   "cell_type": "code",
   "execution_count": 202,
   "id": "165984c4",
   "metadata": {},
   "outputs": [
    {
     "data": {
      "text/html": [
       "<div>\n",
       "<style scoped>\n",
       "    .dataframe tbody tr th:only-of-type {\n",
       "        vertical-align: middle;\n",
       "    }\n",
       "\n",
       "    .dataframe tbody tr th {\n",
       "        vertical-align: top;\n",
       "    }\n",
       "\n",
       "    .dataframe thead th {\n",
       "        text-align: right;\n",
       "    }\n",
       "</style>\n",
       "<table border=\"1\" class=\"dataframe\">\n",
       "  <thead>\n",
       "    <tr style=\"text-align: right;\">\n",
       "      <th></th>\n",
       "      <th>released</th>\n",
       "      <th>colour</th>\n",
       "      <th>year</th>\n",
       "      <th>age</th>\n",
       "      <th>sex</th>\n",
       "      <th>employed</th>\n",
       "      <th>citizen</th>\n",
       "      <th>checks</th>\n",
       "      <th>release_date</th>\n",
       "      <th>years_arrested</th>\n",
       "    </tr>\n",
       "    <tr>\n",
       "      <th>SNo</th>\n",
       "      <th></th>\n",
       "      <th></th>\n",
       "      <th></th>\n",
       "      <th></th>\n",
       "      <th></th>\n",
       "      <th></th>\n",
       "      <th></th>\n",
       "      <th></th>\n",
       "      <th></th>\n",
       "      <th></th>\n",
       "    </tr>\n",
       "  </thead>\n",
       "  <tbody>\n",
       "    <tr>\n",
       "      <th>190</th>\n",
       "      <td>True</td>\n",
       "      <td>White</td>\n",
       "      <td>2001.0</td>\n",
       "      <td>12.0</td>\n",
       "      <td>Male</td>\n",
       "      <td>True</td>\n",
       "      <td>True</td>\n",
       "      <td>0.0</td>\n",
       "      <td>2003</td>\n",
       "      <td>2.0</td>\n",
       "    </tr>\n",
       "    <tr>\n",
       "      <th>5101</th>\n",
       "      <td>True</td>\n",
       "      <td>White</td>\n",
       "      <td>1999.0</td>\n",
       "      <td>12.0</td>\n",
       "      <td>Male</td>\n",
       "      <td>True</td>\n",
       "      <td>True</td>\n",
       "      <td>0.0</td>\n",
       "      <td>2003</td>\n",
       "      <td>4.0</td>\n",
       "    </tr>\n",
       "    <tr>\n",
       "      <th>4968</th>\n",
       "      <td>True</td>\n",
       "      <td>White</td>\n",
       "      <td>1998.0</td>\n",
       "      <td>12.0</td>\n",
       "      <td>Male</td>\n",
       "      <td>True</td>\n",
       "      <td>True</td>\n",
       "      <td>0.0</td>\n",
       "      <td>2003</td>\n",
       "      <td>5.0</td>\n",
       "    </tr>\n",
       "    <tr>\n",
       "      <th>3807</th>\n",
       "      <td>False</td>\n",
       "      <td>White</td>\n",
       "      <td>1997.0</td>\n",
       "      <td>12.0</td>\n",
       "      <td>Male</td>\n",
       "      <td>True</td>\n",
       "      <td>False</td>\n",
       "      <td>5.0</td>\n",
       "      <td>NaN</td>\n",
       "      <td>NaN</td>\n",
       "    </tr>\n",
       "    <tr>\n",
       "      <th>1549</th>\n",
       "      <td>True</td>\n",
       "      <td>White</td>\n",
       "      <td>2001.0</td>\n",
       "      <td>13.0</td>\n",
       "      <td>Male</td>\n",
       "      <td>True</td>\n",
       "      <td>True</td>\n",
       "      <td>1.0</td>\n",
       "      <td>2003</td>\n",
       "      <td>2.0</td>\n",
       "    </tr>\n",
       "    <tr>\n",
       "      <th>...</th>\n",
       "      <td>...</td>\n",
       "      <td>...</td>\n",
       "      <td>...</td>\n",
       "      <td>...</td>\n",
       "      <td>...</td>\n",
       "      <td>...</td>\n",
       "      <td>...</td>\n",
       "      <td>...</td>\n",
       "      <td>...</td>\n",
       "      <td>...</td>\n",
       "    </tr>\n",
       "    <tr>\n",
       "      <th>3003</th>\n",
       "      <td>True</td>\n",
       "      <td>Black</td>\n",
       "      <td>1997.0</td>\n",
       "      <td>64.0</td>\n",
       "      <td>Male</td>\n",
       "      <td>True</td>\n",
       "      <td>False</td>\n",
       "      <td>0.0</td>\n",
       "      <td>2003</td>\n",
       "      <td>6.0</td>\n",
       "    </tr>\n",
       "    <tr>\n",
       "      <th>4334</th>\n",
       "      <td>True</td>\n",
       "      <td>Black</td>\n",
       "      <td>1997.0</td>\n",
       "      <td>64.0</td>\n",
       "      <td>Male</td>\n",
       "      <td>True</td>\n",
       "      <td>True</td>\n",
       "      <td>2.0</td>\n",
       "      <td>2003</td>\n",
       "      <td>6.0</td>\n",
       "    </tr>\n",
       "    <tr>\n",
       "      <th>1037</th>\n",
       "      <td>True</td>\n",
       "      <td>Black</td>\n",
       "      <td>2000.0</td>\n",
       "      <td>66.0</td>\n",
       "      <td>Male</td>\n",
       "      <td>True</td>\n",
       "      <td>True</td>\n",
       "      <td>2.0</td>\n",
       "      <td>2003</td>\n",
       "      <td>3.0</td>\n",
       "    </tr>\n",
       "    <tr>\n",
       "      <th>1046</th>\n",
       "      <td>False</td>\n",
       "      <td>Black</td>\n",
       "      <td>2000.0</td>\n",
       "      <td>66.0</td>\n",
       "      <td>Male</td>\n",
       "      <td>True</td>\n",
       "      <td>True</td>\n",
       "      <td>2.0</td>\n",
       "      <td>NaN</td>\n",
       "      <td>NaN</td>\n",
       "    </tr>\n",
       "    <tr>\n",
       "      <th>release_date</th>\n",
       "      <td>NaN</td>\n",
       "      <td>NaN</td>\n",
       "      <td>NaN</td>\n",
       "      <td>NaN</td>\n",
       "      <td>NaN</td>\n",
       "      <td>NaN</td>\n",
       "      <td>NaN</td>\n",
       "      <td>NaN</td>\n",
       "      <td>NaN</td>\n",
       "      <td>NaN</td>\n",
       "    </tr>\n",
       "  </tbody>\n",
       "</table>\n",
       "<p>5227 rows × 10 columns</p>\n",
       "</div>"
      ],
      "text/plain": [
       "             released colour    year   age   sex employed citizen  checks   \n",
       "SNo                                                                         \n",
       "190              True  White  2001.0  12.0  Male     True    True     0.0  \\\n",
       "5101             True  White  1999.0  12.0  Male     True    True     0.0   \n",
       "4968             True  White  1998.0  12.0  Male     True    True     0.0   \n",
       "3807            False  White  1997.0  12.0  Male     True   False     5.0   \n",
       "1549             True  White  2001.0  13.0  Male     True    True     1.0   \n",
       "...               ...    ...     ...   ...   ...      ...     ...     ...   \n",
       "3003             True  Black  1997.0  64.0  Male     True   False     0.0   \n",
       "4334             True  Black  1997.0  64.0  Male     True    True     2.0   \n",
       "1037             True  Black  2000.0  66.0  Male     True    True     2.0   \n",
       "1046            False  Black  2000.0  66.0  Male     True    True     2.0   \n",
       "release_date      NaN    NaN     NaN   NaN   NaN      NaN     NaN     NaN   \n",
       "\n",
       "             release_date  years_arrested  \n",
       "SNo                                        \n",
       "190                  2003             2.0  \n",
       "5101                 2003             4.0  \n",
       "4968                 2003             5.0  \n",
       "3807                  NaN             NaN  \n",
       "1549                 2003             2.0  \n",
       "...                   ...             ...  \n",
       "3003                 2003             6.0  \n",
       "4334                 2003             6.0  \n",
       "1037                 2003             3.0  \n",
       "1046                  NaN             NaN  \n",
       "release_date          NaN             NaN  \n",
       "\n",
       "[5227 rows x 10 columns]"
      ]
     },
     "execution_count": 202,
     "metadata": {},
     "output_type": "execute_result"
    }
   ],
   "source": [
    "df.sort_values(by=['age', 'year'], ascending=[True, False])"
   ]
  },
  {
   "cell_type": "code",
   "execution_count": 207,
   "id": "411d7144",
   "metadata": {},
   "outputs": [
    {
     "data": {
      "text/plain": [
       "SNo\n",
       "1               3971.0\n",
       "2               3971.0\n",
       "3               3971.0\n",
       "4               2278.5\n",
       "5               2278.5\n",
       "                 ...  \n",
       "5223             926.0\n",
       "5224            2278.5\n",
       "5225            4769.0\n",
       "5226            3971.0\n",
       "release_date       NaN\n",
       "Name: checks, Length: 5227, dtype: float64"
      ]
     },
     "execution_count": 207,
     "metadata": {},
     "output_type": "execute_result"
    }
   ],
   "source": [
    "df.checks.rank(method='average')"
   ]
  },
  {
   "cell_type": "code",
   "execution_count": 209,
   "id": "f95994df",
   "metadata": {},
   "outputs": [
    {
     "data": {
      "text/plain": [
       "SNo\n",
       "1               3495.0\n",
       "2               3495.0\n",
       "3               3495.0\n",
       "4               1852.0\n",
       "5               1852.0\n",
       "                 ...  \n",
       "5223               1.0\n",
       "5224            1852.0\n",
       "5225            4448.0\n",
       "5226            3495.0\n",
       "release_date       NaN\n",
       "Name: checks, Length: 5227, dtype: float64"
      ]
     },
     "execution_count": 209,
     "metadata": {},
     "output_type": "execute_result"
    }
   ],
   "source": [
    "df.checks.rank(method='min')"
   ]
  },
  {
   "cell_type": "code",
   "execution_count": 211,
   "id": "1d6a7206",
   "metadata": {},
   "outputs": [
    {
     "data": {
      "text/plain": [
       "released            True\n",
       "colour             White\n",
       "year              2000.0\n",
       "age                 21.0\n",
       "sex               Female\n",
       "employed            True\n",
       "citizen             True\n",
       "checks               0.0\n",
       "release_date        2003\n",
       "years_arrested       3.0\n",
       "Name: 5223, dtype: object"
      ]
     },
     "execution_count": 211,
     "metadata": {},
     "output_type": "execute_result"
    }
   ],
   "source": [
    "df.iloc[5222]"
   ]
  },
  {
   "cell_type": "code",
   "execution_count": 212,
   "id": "dedc1a0d",
   "metadata": {},
   "outputs": [
    {
     "data": {
      "text/html": [
       "<div>\n",
       "<style scoped>\n",
       "    .dataframe tbody tr th:only-of-type {\n",
       "        vertical-align: middle;\n",
       "    }\n",
       "\n",
       "    .dataframe tbody tr th {\n",
       "        vertical-align: top;\n",
       "    }\n",
       "\n",
       "    .dataframe thead th {\n",
       "        text-align: right;\n",
       "    }\n",
       "</style>\n",
       "<table border=\"1\" class=\"dataframe\">\n",
       "  <thead>\n",
       "    <tr style=\"text-align: right;\">\n",
       "      <th></th>\n",
       "      <th>released</th>\n",
       "      <th>colour</th>\n",
       "      <th>year</th>\n",
       "      <th>age</th>\n",
       "      <th>sex</th>\n",
       "      <th>employed</th>\n",
       "      <th>citizen</th>\n",
       "      <th>checks</th>\n",
       "      <th>release_date</th>\n",
       "      <th>years_arrested</th>\n",
       "    </tr>\n",
       "    <tr>\n",
       "      <th>SNo</th>\n",
       "      <th></th>\n",
       "      <th></th>\n",
       "      <th></th>\n",
       "      <th></th>\n",
       "      <th></th>\n",
       "      <th></th>\n",
       "      <th></th>\n",
       "      <th></th>\n",
       "      <th></th>\n",
       "      <th></th>\n",
       "    </tr>\n",
       "  </thead>\n",
       "  <tbody>\n",
       "    <tr>\n",
       "      <th>1</th>\n",
       "      <td>True</td>\n",
       "      <td>White</td>\n",
       "      <td>2002.0</td>\n",
       "      <td>21.0</td>\n",
       "      <td>Male</td>\n",
       "      <td>True</td>\n",
       "      <td>True</td>\n",
       "      <td>3.0</td>\n",
       "      <td>2003</td>\n",
       "      <td>1.0</td>\n",
       "    </tr>\n",
       "    <tr>\n",
       "      <th>3</th>\n",
       "      <td>True</td>\n",
       "      <td>White</td>\n",
       "      <td>2000.0</td>\n",
       "      <td>24.0</td>\n",
       "      <td>Male</td>\n",
       "      <td>True</td>\n",
       "      <td>True</td>\n",
       "      <td>3.0</td>\n",
       "      <td>2003</td>\n",
       "      <td>3.0</td>\n",
       "    </tr>\n",
       "    <tr>\n",
       "      <th>5</th>\n",
       "      <td>True</td>\n",
       "      <td>Black</td>\n",
       "      <td>1999.0</td>\n",
       "      <td>27.0</td>\n",
       "      <td>Female</td>\n",
       "      <td>True</td>\n",
       "      <td>True</td>\n",
       "      <td>1.0</td>\n",
       "      <td>2003</td>\n",
       "      <td>4.0</td>\n",
       "    </tr>\n",
       "    <tr>\n",
       "      <th>6</th>\n",
       "      <td>True</td>\n",
       "      <td>Black</td>\n",
       "      <td>1998.0</td>\n",
       "      <td>16.0</td>\n",
       "      <td>Female</td>\n",
       "      <td>True</td>\n",
       "      <td>True</td>\n",
       "      <td>0.0</td>\n",
       "      <td>2003</td>\n",
       "      <td>5.0</td>\n",
       "    </tr>\n",
       "    <tr>\n",
       "      <th>7</th>\n",
       "      <td>True</td>\n",
       "      <td>White</td>\n",
       "      <td>1999.0</td>\n",
       "      <td>40.0</td>\n",
       "      <td>Male</td>\n",
       "      <td>False</td>\n",
       "      <td>True</td>\n",
       "      <td>0.0</td>\n",
       "      <td>2003</td>\n",
       "      <td>4.0</td>\n",
       "    </tr>\n",
       "    <tr>\n",
       "      <th>...</th>\n",
       "      <td>...</td>\n",
       "      <td>...</td>\n",
       "      <td>...</td>\n",
       "      <td>...</td>\n",
       "      <td>...</td>\n",
       "      <td>...</td>\n",
       "      <td>...</td>\n",
       "      <td>...</td>\n",
       "      <td>...</td>\n",
       "      <td>...</td>\n",
       "    </tr>\n",
       "    <tr>\n",
       "      <th>5221</th>\n",
       "      <td>True</td>\n",
       "      <td>White</td>\n",
       "      <td>2002.0</td>\n",
       "      <td>22.0</td>\n",
       "      <td>Male</td>\n",
       "      <td>True</td>\n",
       "      <td>True</td>\n",
       "      <td>0.0</td>\n",
       "      <td>2003</td>\n",
       "      <td>1.0</td>\n",
       "    </tr>\n",
       "    <tr>\n",
       "      <th>5222</th>\n",
       "      <td>True</td>\n",
       "      <td>White</td>\n",
       "      <td>2000.0</td>\n",
       "      <td>17.0</td>\n",
       "      <td>Male</td>\n",
       "      <td>True</td>\n",
       "      <td>True</td>\n",
       "      <td>0.0</td>\n",
       "      <td>2003</td>\n",
       "      <td>3.0</td>\n",
       "    </tr>\n",
       "    <tr>\n",
       "      <th>5223</th>\n",
       "      <td>True</td>\n",
       "      <td>White</td>\n",
       "      <td>2000.0</td>\n",
       "      <td>21.0</td>\n",
       "      <td>Female</td>\n",
       "      <td>True</td>\n",
       "      <td>True</td>\n",
       "      <td>0.0</td>\n",
       "      <td>2003</td>\n",
       "      <td>3.0</td>\n",
       "    </tr>\n",
       "    <tr>\n",
       "      <th>5224</th>\n",
       "      <td>True</td>\n",
       "      <td>Black</td>\n",
       "      <td>1999.0</td>\n",
       "      <td>21.0</td>\n",
       "      <td>Female</td>\n",
       "      <td>True</td>\n",
       "      <td>True</td>\n",
       "      <td>1.0</td>\n",
       "      <td>2003</td>\n",
       "      <td>4.0</td>\n",
       "    </tr>\n",
       "    <tr>\n",
       "      <th>5226</th>\n",
       "      <td>True</td>\n",
       "      <td>White</td>\n",
       "      <td>1999.0</td>\n",
       "      <td>16.0</td>\n",
       "      <td>Male</td>\n",
       "      <td>True</td>\n",
       "      <td>True</td>\n",
       "      <td>3.0</td>\n",
       "      <td>2003</td>\n",
       "      <td>4.0</td>\n",
       "    </tr>\n",
       "  </tbody>\n",
       "</table>\n",
       "<p>4334 rows × 10 columns</p>\n",
       "</div>"
      ],
      "text/plain": [
       "     released colour    year   age     sex employed citizen  checks   \n",
       "SNo                                                                   \n",
       "1        True  White  2002.0  21.0    Male     True    True     3.0  \\\n",
       "3        True  White  2000.0  24.0    Male     True    True     3.0   \n",
       "5        True  Black  1999.0  27.0  Female     True    True     1.0   \n",
       "6        True  Black  1998.0  16.0  Female     True    True     0.0   \n",
       "7        True  White  1999.0  40.0    Male    False    True     0.0   \n",
       "...       ...    ...     ...   ...     ...      ...     ...     ...   \n",
       "5221     True  White  2002.0  22.0    Male     True    True     0.0   \n",
       "5222     True  White  2000.0  17.0    Male     True    True     0.0   \n",
       "5223     True  White  2000.0  21.0  Female     True    True     0.0   \n",
       "5224     True  Black  1999.0  21.0  Female     True    True     1.0   \n",
       "5226     True  White  1999.0  16.0    Male     True    True     3.0   \n",
       "\n",
       "     release_date  years_arrested  \n",
       "SNo                                \n",
       "1            2003             1.0  \n",
       "3            2003             3.0  \n",
       "5            2003             4.0  \n",
       "6            2003             5.0  \n",
       "7            2003             4.0  \n",
       "...           ...             ...  \n",
       "5221         2003             1.0  \n",
       "5222         2003             3.0  \n",
       "5223         2003             3.0  \n",
       "5224         2003             4.0  \n",
       "5226         2003             4.0  \n",
       "\n",
       "[4334 rows x 10 columns]"
      ]
     },
     "execution_count": 212,
     "metadata": {},
     "output_type": "execute_result"
    }
   ],
   "source": [
    "df.dropna()"
   ]
  },
  {
   "cell_type": "code",
   "execution_count": 216,
   "id": "28f614a5",
   "metadata": {},
   "outputs": [],
   "source": [
    "df4=df.stack()"
   ]
  },
  {
   "cell_type": "code",
   "execution_count": 217,
   "id": "a5d806aa",
   "metadata": {},
   "outputs": [
    {
     "data": {
      "text/plain": [
       "                SNo \n",
       "released        1         True\n",
       "colour          1        White\n",
       "year            1       2002.0\n",
       "age             1         21.0\n",
       "sex             1         Male\n",
       "                         ...  \n",
       "employed        5226      True\n",
       "citizen         5226      True\n",
       "checks          5226       3.0\n",
       "release_date    5226      2003\n",
       "years_arrested  5226       4.0\n",
       "Length: 50476, dtype: object"
      ]
     },
     "execution_count": 217,
     "metadata": {},
     "output_type": "execute_result"
    }
   ],
   "source": [
    "df4.swaplevel(0, 1)"
   ]
  },
  {
   "cell_type": "code",
   "execution_count": 237,
   "id": "39eb5a2e",
   "metadata": {},
   "outputs": [
    {
     "data": {
      "text/plain": [
       "<Axes: xlabel='SNo'>"
      ]
     },
     "execution_count": 237,
     "metadata": {},
     "output_type": "execute_result"
    },
    {
     "data": {
      "application/vnd.jupyter.widget-view+json": {
       "model_id": "c29c548c9e094e5484ac73d71bbe7b7a",
       "version_major": 2,
       "version_minor": 0
      },
      "image/png": "[encoded data removed]",
      "text/html": [
       "\n",
       "            <div style=\"display: inline-block;\">\n",
       "                <div class=\"jupyter-widgets widget-label\" style=\"text-align: center;\">\n",
       "                    Figure\n",
       "                </div>\n",
       "                <img src='data:image/png;base64,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' width=640.0/>\n",
       "            </div>\n",
       "        "
      ],
      "text/plain": [
       "Canvas(toolbar=Toolbar(toolitems=[('Home', 'Reset original view', 'home', 'home'), ('Back', 'Back to previous …"
      ]
     },
     "metadata": {},
     "output_type": "display_data"
    }
   ],
   "source": [
    "df.nlargest(3, ['age', 'year', 'checks']).plot()"
   ]
  },
  {
   "cell_type": "code",
   "execution_count": 236,
   "id": "7b5f8393",
   "metadata": {},
   "outputs": [
    {
     "data": {
      "text/plain": [
       "23.846536548029086"
      ]
     },
     "execution_count": 236,
     "metadata": {},
     "output_type": "execute_result"
    }
   ],
   "source": [
    "df['age'].mean()"
   ]
  },
  {
   "cell_type": "code",
   "execution_count": 256,
   "id": "942058a9",
   "metadata": {},
   "outputs": [
    {
     "data": {
      "text/html": [
       "<div>\n",
       "<style scoped>\n",
       "    .dataframe tbody tr th:only-of-type {\n",
       "        vertical-align: middle;\n",
       "    }\n",
       "\n",
       "    .dataframe tbody tr th {\n",
       "        vertical-align: top;\n",
       "    }\n",
       "\n",
       "    .dataframe thead th {\n",
       "        text-align: right;\n",
       "    }\n",
       "</style>\n",
       "<table border=\"1\" class=\"dataframe\">\n",
       "  <thead>\n",
       "    <tr style=\"text-align: right;\">\n",
       "      <th></th>\n",
       "      <th>released</th>\n",
       "      <th>colour</th>\n",
       "      <th>year</th>\n",
       "      <th>age</th>\n",
       "      <th>sex</th>\n",
       "      <th>employed</th>\n",
       "      <th>citizen</th>\n",
       "      <th>checks</th>\n",
       "      <th>release_date</th>\n",
       "      <th>years_arrested</th>\n",
       "    </tr>\n",
       "    <tr>\n",
       "      <th>SNo</th>\n",
       "      <th></th>\n",
       "      <th></th>\n",
       "      <th></th>\n",
       "      <th></th>\n",
       "      <th></th>\n",
       "      <th></th>\n",
       "      <th></th>\n",
       "      <th></th>\n",
       "      <th></th>\n",
       "      <th></th>\n",
       "    </tr>\n",
       "  </thead>\n",
       "  <tbody>\n",
       "    <tr>\n",
       "      <th>1</th>\n",
       "      <td>True</td>\n",
       "      <td>White</td>\n",
       "      <td>2002.0</td>\n",
       "      <td>21.0</td>\n",
       "      <td>Male</td>\n",
       "      <td>True</td>\n",
       "      <td>True</td>\n",
       "      <td>3.0</td>\n",
       "      <td>2003</td>\n",
       "      <td>1.0</td>\n",
       "    </tr>\n",
       "    <tr>\n",
       "      <th>3</th>\n",
       "      <td>True</td>\n",
       "      <td>White</td>\n",
       "      <td>2000.0</td>\n",
       "      <td>24.0</td>\n",
       "      <td>Male</td>\n",
       "      <td>True</td>\n",
       "      <td>True</td>\n",
       "      <td>3.0</td>\n",
       "      <td>2003</td>\n",
       "      <td>3.0</td>\n",
       "    </tr>\n",
       "    <tr>\n",
       "      <th>5</th>\n",
       "      <td>True</td>\n",
       "      <td>Black</td>\n",
       "      <td>1999.0</td>\n",
       "      <td>27.0</td>\n",
       "      <td>Female</td>\n",
       "      <td>True</td>\n",
       "      <td>True</td>\n",
       "      <td>1.0</td>\n",
       "      <td>2003</td>\n",
       "      <td>4.0</td>\n",
       "    </tr>\n",
       "    <tr>\n",
       "      <th>6</th>\n",
       "      <td>True</td>\n",
       "      <td>Black</td>\n",
       "      <td>1998.0</td>\n",
       "      <td>16.0</td>\n",
       "      <td>Female</td>\n",
       "      <td>True</td>\n",
       "      <td>True</td>\n",
       "      <td>0.0</td>\n",
       "      <td>2003</td>\n",
       "      <td>5.0</td>\n",
       "    </tr>\n",
       "    <tr>\n",
       "      <th>7</th>\n",
       "      <td>True</td>\n",
       "      <td>White</td>\n",
       "      <td>1999.0</td>\n",
       "      <td>40.0</td>\n",
       "      <td>Male</td>\n",
       "      <td>False</td>\n",
       "      <td>True</td>\n",
       "      <td>0.0</td>\n",
       "      <td>2003</td>\n",
       "      <td>4.0</td>\n",
       "    </tr>\n",
       "    <tr>\n",
       "      <th>...</th>\n",
       "      <td>...</td>\n",
       "      <td>...</td>\n",
       "      <td>...</td>\n",
       "      <td>...</td>\n",
       "      <td>...</td>\n",
       "      <td>...</td>\n",
       "      <td>...</td>\n",
       "      <td>...</td>\n",
       "      <td>...</td>\n",
       "      <td>...</td>\n",
       "    </tr>\n",
       "    <tr>\n",
       "      <th>5221</th>\n",
       "      <td>True</td>\n",
       "      <td>White</td>\n",
       "      <td>2002.0</td>\n",
       "      <td>22.0</td>\n",
       "      <td>Male</td>\n",
       "      <td>True</td>\n",
       "      <td>True</td>\n",
       "      <td>0.0</td>\n",
       "      <td>2003</td>\n",
       "      <td>1.0</td>\n",
       "    </tr>\n",
       "    <tr>\n",
       "      <th>5222</th>\n",
       "      <td>True</td>\n",
       "      <td>White</td>\n",
       "      <td>2000.0</td>\n",
       "      <td>17.0</td>\n",
       "      <td>Male</td>\n",
       "      <td>True</td>\n",
       "      <td>True</td>\n",
       "      <td>0.0</td>\n",
       "      <td>2003</td>\n",
       "      <td>3.0</td>\n",
       "    </tr>\n",
       "    <tr>\n",
       "      <th>5223</th>\n",
       "      <td>True</td>\n",
       "      <td>White</td>\n",
       "      <td>2000.0</td>\n",
       "      <td>21.0</td>\n",
       "      <td>Female</td>\n",
       "      <td>True</td>\n",
       "      <td>True</td>\n",
       "      <td>0.0</td>\n",
       "      <td>2003</td>\n",
       "      <td>3.0</td>\n",
       "    </tr>\n",
       "    <tr>\n",
       "      <th>5224</th>\n",
       "      <td>True</td>\n",
       "      <td>Black</td>\n",
       "      <td>1999.0</td>\n",
       "      <td>21.0</td>\n",
       "      <td>Female</td>\n",
       "      <td>True</td>\n",
       "      <td>True</td>\n",
       "      <td>1.0</td>\n",
       "      <td>2003</td>\n",
       "      <td>4.0</td>\n",
       "    </tr>\n",
       "    <tr>\n",
       "      <th>5226</th>\n",
       "      <td>True</td>\n",
       "      <td>White</td>\n",
       "      <td>1999.0</td>\n",
       "      <td>16.0</td>\n",
       "      <td>Male</td>\n",
       "      <td>True</td>\n",
       "      <td>True</td>\n",
       "      <td>3.0</td>\n",
       "      <td>2003</td>\n",
       "      <td>4.0</td>\n",
       "    </tr>\n",
       "  </tbody>\n",
       "</table>\n",
       "<p>4334 rows × 10 columns</p>\n",
       "</div>"
      ],
      "text/plain": [
       "     released colour    year   age     sex employed citizen  checks   \n",
       "SNo                                                                   \n",
       "1        True  White  2002.0  21.0    Male     True    True     3.0  \\\n",
       "3        True  White  2000.0  24.0    Male     True    True     3.0   \n",
       "5        True  Black  1999.0  27.0  Female     True    True     1.0   \n",
       "6        True  Black  1998.0  16.0  Female     True    True     0.0   \n",
       "7        True  White  1999.0  40.0    Male    False    True     0.0   \n",
       "...       ...    ...     ...   ...     ...      ...     ...     ...   \n",
       "5221     True  White  2002.0  22.0    Male     True    True     0.0   \n",
       "5222     True  White  2000.0  17.0    Male     True    True     0.0   \n",
       "5223     True  White  2000.0  21.0  Female     True    True     0.0   \n",
       "5224     True  Black  1999.0  21.0  Female     True    True     1.0   \n",
       "5226     True  White  1999.0  16.0    Male     True    True     3.0   \n",
       "\n",
       "     release_date  years_arrested  \n",
       "SNo                                \n",
       "1            2003             1.0  \n",
       "3            2003             3.0  \n",
       "5            2003             4.0  \n",
       "6            2003             5.0  \n",
       "7            2003             4.0  \n",
       "...           ...             ...  \n",
       "5221         2003             1.0  \n",
       "5222         2003             3.0  \n",
       "5223         2003             3.0  \n",
       "5224         2003             4.0  \n",
       "5226         2003             4.0  \n",
       "\n",
       "[4334 rows x 10 columns]"
      ]
     },
     "execution_count": 256,
     "metadata": {},
     "output_type": "execute_result"
    }
   ],
   "source": [
    "df[df['released']==True]"
   ]
  },
  {
   "cell_type": "code",
   "execution_count": 257,
   "id": "70dba316",
   "metadata": {},
   "outputs": [
    {
     "data": {
      "text/html": [
       "<div>\n",
       "<style scoped>\n",
       "    .dataframe tbody tr th:only-of-type {\n",
       "        vertical-align: middle;\n",
       "    }\n",
       "\n",
       "    .dataframe tbody tr th {\n",
       "        vertical-align: top;\n",
       "    }\n",
       "\n",
       "    .dataframe thead th {\n",
       "        text-align: right;\n",
       "    }\n",
       "</style>\n",
       "<table border=\"1\" class=\"dataframe\">\n",
       "  <thead>\n",
       "    <tr style=\"text-align: right;\">\n",
       "      <th></th>\n",
       "      <th>released</th>\n",
       "      <th>colour</th>\n",
       "      <th>year</th>\n",
       "      <th>age</th>\n",
       "      <th>sex</th>\n",
       "      <th>employed</th>\n",
       "      <th>citizen</th>\n",
       "      <th>checks</th>\n",
       "      <th>release_date</th>\n",
       "      <th>years_arrested</th>\n",
       "    </tr>\n",
       "    <tr>\n",
       "      <th>SNo</th>\n",
       "      <th></th>\n",
       "      <th></th>\n",
       "      <th></th>\n",
       "      <th></th>\n",
       "      <th></th>\n",
       "      <th></th>\n",
       "      <th></th>\n",
       "      <th></th>\n",
       "      <th></th>\n",
       "      <th></th>\n",
       "    </tr>\n",
       "  </thead>\n",
       "  <tbody>\n",
       "    <tr>\n",
       "      <th>1</th>\n",
       "      <td>True</td>\n",
       "      <td>White</td>\n",
       "      <td>2002.0</td>\n",
       "      <td>21.0</td>\n",
       "      <td>Male</td>\n",
       "      <td>True</td>\n",
       "      <td>True</td>\n",
       "      <td>3.0</td>\n",
       "      <td>2003</td>\n",
       "      <td>1.0</td>\n",
       "    </tr>\n",
       "    <tr>\n",
       "      <th>2</th>\n",
       "      <td>False</td>\n",
       "      <td>Black</td>\n",
       "      <td>1999.0</td>\n",
       "      <td>17.0</td>\n",
       "      <td>Male</td>\n",
       "      <td>True</td>\n",
       "      <td>True</td>\n",
       "      <td>3.0</td>\n",
       "      <td>NaN</td>\n",
       "      <td>NaN</td>\n",
       "    </tr>\n",
       "    <tr>\n",
       "      <th>3</th>\n",
       "      <td>True</td>\n",
       "      <td>White</td>\n",
       "      <td>2000.0</td>\n",
       "      <td>24.0</td>\n",
       "      <td>Male</td>\n",
       "      <td>True</td>\n",
       "      <td>True</td>\n",
       "      <td>3.0</td>\n",
       "      <td>2003</td>\n",
       "      <td>3.0</td>\n",
       "    </tr>\n",
       "    <tr>\n",
       "      <th>4</th>\n",
       "      <td>False</td>\n",
       "      <td>Black</td>\n",
       "      <td>2000.0</td>\n",
       "      <td>46.0</td>\n",
       "      <td>Male</td>\n",
       "      <td>True</td>\n",
       "      <td>True</td>\n",
       "      <td>1.0</td>\n",
       "      <td>NaN</td>\n",
       "      <td>NaN</td>\n",
       "    </tr>\n",
       "    <tr>\n",
       "      <th>5</th>\n",
       "      <td>True</td>\n",
       "      <td>Black</td>\n",
       "      <td>1999.0</td>\n",
       "      <td>27.0</td>\n",
       "      <td>Female</td>\n",
       "      <td>True</td>\n",
       "      <td>True</td>\n",
       "      <td>1.0</td>\n",
       "      <td>2003</td>\n",
       "      <td>4.0</td>\n",
       "    </tr>\n",
       "    <tr>\n",
       "      <th>...</th>\n",
       "      <td>...</td>\n",
       "      <td>...</td>\n",
       "      <td>...</td>\n",
       "      <td>...</td>\n",
       "      <td>...</td>\n",
       "      <td>...</td>\n",
       "      <td>...</td>\n",
       "      <td>...</td>\n",
       "      <td>...</td>\n",
       "      <td>...</td>\n",
       "    </tr>\n",
       "    <tr>\n",
       "      <th>5223</th>\n",
       "      <td>True</td>\n",
       "      <td>White</td>\n",
       "      <td>2000.0</td>\n",
       "      <td>21.0</td>\n",
       "      <td>Female</td>\n",
       "      <td>True</td>\n",
       "      <td>True</td>\n",
       "      <td>0.0</td>\n",
       "      <td>2003</td>\n",
       "      <td>3.0</td>\n",
       "    </tr>\n",
       "    <tr>\n",
       "      <th>5224</th>\n",
       "      <td>True</td>\n",
       "      <td>Black</td>\n",
       "      <td>1999.0</td>\n",
       "      <td>21.0</td>\n",
       "      <td>Female</td>\n",
       "      <td>True</td>\n",
       "      <td>True</td>\n",
       "      <td>1.0</td>\n",
       "      <td>2003</td>\n",
       "      <td>4.0</td>\n",
       "    </tr>\n",
       "    <tr>\n",
       "      <th>5225</th>\n",
       "      <td>False</td>\n",
       "      <td>Black</td>\n",
       "      <td>1998.0</td>\n",
       "      <td>24.0</td>\n",
       "      <td>Male</td>\n",
       "      <td>True</td>\n",
       "      <td>True</td>\n",
       "      <td>4.0</td>\n",
       "      <td>NaN</td>\n",
       "      <td>NaN</td>\n",
       "    </tr>\n",
       "    <tr>\n",
       "      <th>5226</th>\n",
       "      <td>True</td>\n",
       "      <td>White</td>\n",
       "      <td>1999.0</td>\n",
       "      <td>16.0</td>\n",
       "      <td>Male</td>\n",
       "      <td>True</td>\n",
       "      <td>True</td>\n",
       "      <td>3.0</td>\n",
       "      <td>2003</td>\n",
       "      <td>4.0</td>\n",
       "    </tr>\n",
       "    <tr>\n",
       "      <th>release_date</th>\n",
       "      <td>NaN</td>\n",
       "      <td>NaN</td>\n",
       "      <td>NaN</td>\n",
       "      <td>NaN</td>\n",
       "      <td>NaN</td>\n",
       "      <td>NaN</td>\n",
       "      <td>NaN</td>\n",
       "      <td>NaN</td>\n",
       "      <td>NaN</td>\n",
       "      <td>NaN</td>\n",
       "    </tr>\n",
       "  </tbody>\n",
       "</table>\n",
       "<p>5227 rows × 10 columns</p>\n",
       "</div>"
      ],
      "text/plain": [
       "             released colour    year   age     sex employed citizen  checks   \n",
       "SNo                                                                           \n",
       "1                True  White  2002.0  21.0    Male     True    True     3.0  \\\n",
       "2               False  Black  1999.0  17.0    Male     True    True     3.0   \n",
       "3                True  White  2000.0  24.0    Male     True    True     3.0   \n",
       "4               False  Black  2000.0  46.0    Male     True    True     1.0   \n",
       "5                True  Black  1999.0  27.0  Female     True    True     1.0   \n",
       "...               ...    ...     ...   ...     ...      ...     ...     ...   \n",
       "5223             True  White  2000.0  21.0  Female     True    True     0.0   \n",
       "5224             True  Black  1999.0  21.0  Female     True    True     1.0   \n",
       "5225            False  Black  1998.0  24.0    Male     True    True     4.0   \n",
       "5226             True  White  1999.0  16.0    Male     True    True     3.0   \n",
       "release_date      NaN    NaN     NaN   NaN     NaN      NaN     NaN     NaN   \n",
       "\n",
       "             release_date  years_arrested  \n",
       "SNo                                        \n",
       "1                    2003             1.0  \n",
       "2                     NaN             NaN  \n",
       "3                    2003             3.0  \n",
       "4                     NaN             NaN  \n",
       "5                    2003             4.0  \n",
       "...                   ...             ...  \n",
       "5223                 2003             3.0  \n",
       "5224                 2003             4.0  \n",
       "5225                  NaN             NaN  \n",
       "5226                 2003             4.0  \n",
       "release_date          NaN             NaN  \n",
       "\n",
       "[5227 rows x 10 columns]"
      ]
     },
     "execution_count": 257,
     "metadata": {},
     "output_type": "execute_result"
    }
   ],
   "source": [
    "df="
   ]
  },
  {
   "cell_type": "code",
   "execution_count": 258,
   "id": "a42b5fa4",
   "metadata": {},
   "outputs": [
    {
     "name": "stdout",
     "output_type": "stream",
     "text": [
      "             released colour    year   age     sex employed citizen  checks   \n",
      "SNo                                                                           \n",
      "1                True  White  2002.0  21.0    Male     True    True     3.0  \\\n",
      "2               False  Black  1999.0  17.0    Male     True    True     3.0   \n",
      "3                True  White  2000.0  24.0    Male     True    True     3.0   \n",
      "4               False  Black  2000.0  46.0    Male     True    True     1.0   \n",
      "5                True  Black  1999.0  27.0  Female     True    True     1.0   \n",
      "...               ...    ...     ...   ...     ...      ...     ...     ...   \n",
      "5223             True  White  2000.0  21.0  Female     True    True     0.0   \n",
      "5224             True  Black  1999.0  21.0  Female     True    True     1.0   \n",
      "5225            False  Black  1998.0  24.0    Male     True    True     4.0   \n",
      "5226             True  White  1999.0  16.0    Male     True    True     3.0   \n",
      "release_date      NaN    NaN     NaN   NaN     NaN      NaN     NaN     NaN   \n",
      "\n",
      "             release_date  years_arrested  \n",
      "SNo                                        \n",
      "1                    2003             1.0  \n",
      "2                     NaN             NaN  \n",
      "3                    2003             3.0  \n",
      "4                     NaN             NaN  \n",
      "5                    2003             4.0  \n",
      "...                   ...             ...  \n",
      "5223                 2003             3.0  \n",
      "5224                 2003             4.0  \n",
      "5225                  NaN             NaN  \n",
      "5226                 2003             4.0  \n",
      "release_date          NaN             NaN  \n",
      "\n",
      "[5227 rows x 10 columns]\n"
     ]
    }
   ],
   "source": [
    "print(df)"
   ]
  },
  {
   "cell_type": "code",
   "execution_count": null,
   "id": "5e0b4247",
   "metadata": {},
   "outputs": [],
   "source": []
  }
 ],
 "metadata": {
  "kernelspec": {
   "display_name": "Python 3 (ipykernel)",
   "language": "python",
   "name": "python3"
  },
  "language_info": {
   "codemirror_mode": {
    "name": "ipython",
    "version": 3
   },
   "file_extension": ".py",
   "mimetype": "text/x-python",
   "name": "python",
   "nbconvert_exporter": "python",
   "pygments_lexer": "ipython3",
   "version": "3.10.9"
  }
 },
 "nbformat": 4,
 "nbformat_minor": 5
}
