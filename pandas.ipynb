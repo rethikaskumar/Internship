{
 "cells": [
  {
   "cell_type": "code",
   "execution_count": null,
   "id": "3a1987ff-738e-495b-a4fd-7dea3c400e14",
   "metadata": {},
   "outputs": [],
   "source": [
    "!pip install matplotlib"
   ]
  },
  {
   "cell_type": "code",
   "execution_count": null,
   "id": "f675308d-1559-439d-8fef-b30af8baeb9b",
   "metadata": {},
   "outputs": [],
   "source": [
    "!pip install ipympl"
   ]
  },
  {
   "cell_type": "code",
   "execution_count": null,
   "id": "75fda908-d59d-4530-86f7-0d25c6d51603",
   "metadata": {},
   "outputs": [],
   "source": [
    "%matplotlib widget"
   ]
  },
  {
   "cell_type": "code",
   "execution_count": null,
   "id": "d5a3cde3-99aa-4412-8b18-071fd0e71bd2",
   "metadata": {},
   "outputs": [],
   "source": [
    "import matplotlib.pyplot as plt"
   ]
  },
  {
   "cell_type": "code",
   "execution_count": null,
   "id": "dea2edf1-fdd9-42a8-b6c8-63467bebed84",
   "metadata": {},
   "outputs": [],
   "source": [
    "fig=plt.figure()"
   ]
  },
  {
   "cell_type": "code",
   "execution_count": null,
   "id": "80bc4062-1cba-468f-9220-9e16bfd77d04",
   "metadata": {},
   "outputs": [],
   "source": [
    "ax1=fig.add_subplot(2,2,1)"
   ]
  },
  {
   "cell_type": "code",
   "execution_count": null,
   "id": "be03a63a-bf6a-45ec-9a73-e12f970a182f",
   "metadata": {},
   "outputs": [],
   "source": [
    "ax2=fig.add_subplot(2, 2, 2)"
   ]
  },
  {
   "cell_type": "code",
   "execution_count": null,
   "id": "c9334d4f-e9c2-4885-aebb-6e65278fb3c2",
   "metadata": {},
   "outputs": [],
   "source": [
    "ax3=fig.add_subplot(2, 2, 3)"
   ]
  },
  {
   "cell_type": "code",
   "execution_count": null,
   "id": "22b2ba48-3fc2-4cd2-b5d2-0844dc645a95",
   "metadata": {},
   "outputs": [],
   "source": [
    "fig"
   ]
  },
  {
   "cell_type": "code",
   "execution_count": null,
   "id": "e793a7ab-482f-47de-99a7-6a7f2acd20c5",
   "metadata": {},
   "outputs": [],
   "source": [
    "import numpy as np"
   ]
  },
  {
   "cell_type": "code",
   "execution_count": null,
   "id": "3d69ba1c-0649-40fd-98ff-ab768f3fcf03",
   "metadata": {},
   "outputs": [],
   "source": [
    "a=plt.plot(np.random.randn(30).cumsum(), 'ko--')"
   ]
  },
  {
   "cell_type": "code",
   "execution_count": null,
   "id": "f2a8410c-f812-48fe-aac7-a08a454e9988",
   "metadata": {},
   "outputs": [],
   "source": [
    "plt.plot(np.random.randn(30), 'k-', drawstyle='steps-post', label='steps-post')"
   ]
  },
  {
   "cell_type": "code",
   "execution_count": null,
   "id": "5c104f30-be95-4ed1-9cd7-a7d654e3d2af",
   "metadata": {},
   "outputs": [],
   "source": [
    "%matplotlib inline"
   ]
  },
  {
   "cell_type": "code",
   "execution_count": null,
   "id": "31b82195",
   "metadata": {},
   "outputs": [],
   "source": [
    "plt.plot(np.random.randn(30), 'k-', drawstyle='steps-post', label='steps-post')"
   ]
  },
  {
   "cell_type": "code",
   "execution_count": null,
   "id": "a693e029",
   "metadata": {},
   "outputs": [],
   "source": [
    "a"
   ]
  },
  {
   "cell_type": "code",
   "execution_count": null,
   "id": "5022b811",
   "metadata": {},
   "outputs": [],
   "source": [
    "plt.show()"
   ]
  },
  {
   "cell_type": "code",
   "execution_count": null,
   "id": "82d85bff",
   "metadata": {},
   "outputs": [],
   "source": [
    "circ=plt.Circle((0.7, 2), 0.15, color='b', alpha=0.3)"
   ]
  },
  {
   "cell_type": "code",
   "execution_count": null,
   "id": "0b14a7a8",
   "metadata": {},
   "outputs": [],
   "source": [
    "plt.clf()"
   ]
  },
  {
   "cell_type": "code",
   "execution_count": null,
   "id": "1d5b2742",
   "metadata": {},
   "outputs": [],
   "source": [
    "fig=plt.figure()"
   ]
  },
  {
   "cell_type": "code",
   "execution_count": null,
   "id": "ff099850",
   "metadata": {},
   "outputs": [],
   "source": [
    "ax=fig.add_subplot(1, 1, 1)"
   ]
  },
  {
   "cell_type": "code",
   "execution_count": null,
   "id": "3ef7f6b6",
   "metadata": {},
   "outputs": [],
   "source": [
    "ax.add_patch(circ)"
   ]
  },
  {
   "cell_type": "code",
   "execution_count": null,
   "id": "60622af9",
   "metadata": {},
   "outputs": [],
   "source": [
    "circ.remove()"
   ]
  },
  {
   "cell_type": "code",
   "execution_count": null,
   "id": "930ffb1d",
   "metadata": {},
   "outputs": [],
   "source": [
    "circ.set_visible(False)"
   ]
  },
  {
   "cell_type": "code",
   "execution_count": null,
   "id": "2044e5fc",
   "metadata": {},
   "outputs": [],
   "source": [
    "plt.show()"
   ]
  },
  {
   "cell_type": "code",
   "execution_count": null,
   "id": "76b6deca",
   "metadata": {},
   "outputs": [],
   "source": [
    "ax.patches.pop()"
   ]
  },
  {
   "cell_type": "code",
   "execution_count": null,
   "id": "d5091df5",
   "metadata": {},
   "outputs": [],
   "source": [
    "fig.show()"
   ]
  },
  {
   "cell_type": "code",
   "execution_count": null,
   "id": "5c26c5c5",
   "metadata": {},
   "outputs": [],
   "source": []
  },
  {
   "cell_type": "code",
   "execution_count": null,
   "id": "094e580a",
   "metadata": {},
   "outputs": [],
   "source": []
  }
 ],
 "metadata": {
  "kernelspec": {
   "display_name": "Python 3 (ipykernel)",
   "language": "python",
   "name": "python3"
  },
  "language_info": {
   "codemirror_mode": {
    "name": "ipython",
    "version": 3
   },
   "file_extension": ".py",
   "mimetype": "text/x-python",
   "name": "python",
   "nbconvert_exporter": "python",
   "pygments_lexer": "ipython3",
   "version": "3.10.9"
  }
 },
 "nbformat": 4,
 "nbformat_minor": 5
}
